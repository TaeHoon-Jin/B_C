{
 "cells": [
  {
   "cell_type": "code",
   "execution_count": 1,
   "metadata": {},
   "outputs": [],
   "source": [
    "%matplotlib inline\n",
    "import matplotlib.pyplot as plt\n",
    "import pandas as pd\n",
    "import os\n",
    "import numpy as np\n",
    "import warnings\n",
    "warnings.filterwarnings('ignore')\n",
    "import seaborn as sns"
   ]
  },
  {
   "cell_type": "code",
   "execution_count": 2,
   "metadata": {
    "scrolled": true
   },
   "outputs": [
    {
     "data": {
      "text/plain": [
       "'C:\\\\Users\\\\82109'"
      ]
     },
     "execution_count": 2,
     "metadata": {},
     "output_type": "execute_result"
    }
   ],
   "source": [
    "pwd"
   ]
  },
  {
   "cell_type": "code",
   "execution_count": 4,
   "metadata": {},
   "outputs": [],
   "source": [
    "os.chdir('C:/Users/82109/Desktop')"
   ]
  },
  {
   "cell_type": "code",
   "execution_count": 9,
   "metadata": {},
   "outputs": [],
   "source": [
    "df = pd.read_excel('C:/Users/82109/Desktop/df_train.xlsx')\n",
    "df1 = pd.read_excel('C:/Users/82109/Desktop/data.xlsx')"
   ]
  },
  {
   "cell_type": "code",
   "execution_count": 10,
   "metadata": {},
   "outputs": [],
   "source": [
    "plt.rcParams['font.family'] = 'NanumGothic'"
   ]
  },
  {
   "cell_type": "code",
   "execution_count": 12,
   "metadata": {
    "scrolled": true
   },
   "outputs": [],
   "source": [
    "id_dropped = set(df1['방송일시']) - set(df['방송일시'])\n",
    "id_added = set(df['방송일시']) - set(df1['방송일시'])\n",
    "\n",
    "# print('삭제된 아이템: ',id_dropped)\n",
    "# print('추가된 아이템: ',id_added)"
   ]
  },
  {
   "cell_type": "code",
   "execution_count": 25,
   "metadata": {
    "scrolled": true
   },
   "outputs": [
    {
     "name": "stdout",
     "output_type": "stream",
     "text": [
      "(14418, 29)\n",
      "(38300, 29)\n"
     ]
    }
   ],
   "source": [
    "print(df.shape)\n",
    "print(df1.shape)"
   ]
  },
  {
   "cell_type": "code",
   "execution_count": null,
   "metadata": {},
   "outputs": [],
   "source": []
  },
  {
   "cell_type": "code",
   "execution_count": 9,
   "metadata": {},
   "outputs": [],
   "source": [
    "df_dropped = df1[df1['방송일시'].isin(id_dropped)].iloc[:,:-1]\n",
    "df_added = df[df['방송일시'].isin(id_added)].iloc[:,:-1]"
   ]
  },
  {
   "cell_type": "code",
   "execution_count": 26,
   "metadata": {},
   "outputs": [
    {
     "data": {
      "text/html": [
       "<div>\n",
       "<style scoped>\n",
       "    .dataframe tbody tr th:only-of-type {\n",
       "        vertical-align: middle;\n",
       "    }\n",
       "\n",
       "    .dataframe tbody tr th {\n",
       "        vertical-align: top;\n",
       "    }\n",
       "\n",
       "    .dataframe thead th {\n",
       "        text-align: right;\n",
       "    }\n",
       "</style>\n",
       "<table border=\"1\" class=\"dataframe\">\n",
       "  <thead>\n",
       "    <tr style=\"text-align: right;\">\n",
       "      <th></th>\n",
       "      <th>방송일시</th>\n",
       "      <th>방송일시.1</th>\n",
       "      <th>노출.분.</th>\n",
       "      <th>마더코드</th>\n",
       "      <th>상품코드</th>\n",
       "      <th>상품명</th>\n",
       "      <th>상품군</th>\n",
       "      <th>상품소분류</th>\n",
       "      <th>브랜드</th>\n",
       "      <th>판매단가</th>\n",
       "      <th>...</th>\n",
       "      <th>시청률_max</th>\n",
       "      <th>시청률_mean</th>\n",
       "      <th>조기마감차</th>\n",
       "      <th>조기마감여부</th>\n",
       "      <th>month</th>\n",
       "      <th>계절</th>\n",
       "      <th>시간대</th>\n",
       "      <th>시간대2</th>\n",
       "      <th>노출빈도</th>\n",
       "      <th>디테일</th>\n",
       "    </tr>\n",
       "  </thead>\n",
       "  <tbody>\n",
       "    <tr>\n",
       "      <th>0</th>\n",
       "      <td>2019-01-01 06:00:00</td>\n",
       "      <td>2019-01-01</td>\n",
       "      <td>20.0</td>\n",
       "      <td>100346</td>\n",
       "      <td>201072</td>\n",
       "      <td>테이트 남성 셀린니트3종</td>\n",
       "      <td>의류</td>\n",
       "      <td>상의</td>\n",
       "      <td>테이트</td>\n",
       "      <td>39900</td>\n",
       "      <td>...</td>\n",
       "      <td>0.000</td>\n",
       "      <td>0.0000</td>\n",
       "      <td>0.0</td>\n",
       "      <td>0</td>\n",
       "      <td>1</td>\n",
       "      <td>겨울</td>\n",
       "      <td>오전</td>\n",
       "      <td>C</td>\n",
       "      <td>0</td>\n",
       "      <td>0</td>\n",
       "    </tr>\n",
       "    <tr>\n",
       "      <th>1</th>\n",
       "      <td>2019-01-01 06:00:00</td>\n",
       "      <td>2019-01-01</td>\n",
       "      <td>NaN</td>\n",
       "      <td>100346</td>\n",
       "      <td>201079</td>\n",
       "      <td>테이트 여성 셀린니트3종</td>\n",
       "      <td>의류</td>\n",
       "      <td>상의</td>\n",
       "      <td>테이트</td>\n",
       "      <td>39900</td>\n",
       "      <td>...</td>\n",
       "      <td>0.000</td>\n",
       "      <td>0.0000</td>\n",
       "      <td>0.0</td>\n",
       "      <td>0</td>\n",
       "      <td>1</td>\n",
       "      <td>겨울</td>\n",
       "      <td>오전</td>\n",
       "      <td>C</td>\n",
       "      <td>0</td>\n",
       "      <td>0</td>\n",
       "    </tr>\n",
       "    <tr>\n",
       "      <th>2</th>\n",
       "      <td>2019-01-01 06:20:00</td>\n",
       "      <td>2019-01-01</td>\n",
       "      <td>20.0</td>\n",
       "      <td>100346</td>\n",
       "      <td>201072</td>\n",
       "      <td>테이트 남성 셀린니트3종</td>\n",
       "      <td>의류</td>\n",
       "      <td>상의</td>\n",
       "      <td>테이트</td>\n",
       "      <td>39900</td>\n",
       "      <td>...</td>\n",
       "      <td>0.000</td>\n",
       "      <td>0.0000</td>\n",
       "      <td>0.0</td>\n",
       "      <td>0</td>\n",
       "      <td>1</td>\n",
       "      <td>겨울</td>\n",
       "      <td>오전</td>\n",
       "      <td>C</td>\n",
       "      <td>0</td>\n",
       "      <td>0</td>\n",
       "    </tr>\n",
       "    <tr>\n",
       "      <th>3</th>\n",
       "      <td>2019-01-01 06:20:00</td>\n",
       "      <td>2019-01-01</td>\n",
       "      <td>NaN</td>\n",
       "      <td>100346</td>\n",
       "      <td>201079</td>\n",
       "      <td>테이트 여성 셀린니트3종</td>\n",
       "      <td>의류</td>\n",
       "      <td>상의</td>\n",
       "      <td>테이트</td>\n",
       "      <td>39900</td>\n",
       "      <td>...</td>\n",
       "      <td>0.000</td>\n",
       "      <td>0.0000</td>\n",
       "      <td>0.0</td>\n",
       "      <td>0</td>\n",
       "      <td>1</td>\n",
       "      <td>겨울</td>\n",
       "      <td>오전</td>\n",
       "      <td>C</td>\n",
       "      <td>0</td>\n",
       "      <td>0</td>\n",
       "    </tr>\n",
       "    <tr>\n",
       "      <th>4</th>\n",
       "      <td>2019-01-01 06:40:00</td>\n",
       "      <td>2019-01-01</td>\n",
       "      <td>20.0</td>\n",
       "      <td>100346</td>\n",
       "      <td>201072</td>\n",
       "      <td>테이트 남성 셀린니트3종</td>\n",
       "      <td>의류</td>\n",
       "      <td>상의</td>\n",
       "      <td>테이트</td>\n",
       "      <td>39900</td>\n",
       "      <td>...</td>\n",
       "      <td>0.000</td>\n",
       "      <td>0.0000</td>\n",
       "      <td>0.0</td>\n",
       "      <td>0</td>\n",
       "      <td>1</td>\n",
       "      <td>겨울</td>\n",
       "      <td>오전</td>\n",
       "      <td>C</td>\n",
       "      <td>0</td>\n",
       "      <td>1</td>\n",
       "    </tr>\n",
       "    <tr>\n",
       "      <th>...</th>\n",
       "      <td>...</td>\n",
       "      <td>...</td>\n",
       "      <td>...</td>\n",
       "      <td>...</td>\n",
       "      <td>...</td>\n",
       "      <td>...</td>\n",
       "      <td>...</td>\n",
       "      <td>...</td>\n",
       "      <td>...</td>\n",
       "      <td>...</td>\n",
       "      <td>...</td>\n",
       "      <td>...</td>\n",
       "      <td>...</td>\n",
       "      <td>...</td>\n",
       "      <td>...</td>\n",
       "      <td>...</td>\n",
       "      <td>...</td>\n",
       "      <td>...</td>\n",
       "      <td>...</td>\n",
       "      <td>...</td>\n",
       "      <td>...</td>\n",
       "    </tr>\n",
       "    <tr>\n",
       "      <th>38295</th>\n",
       "      <td>2019-12-31 23:20:00</td>\n",
       "      <td>2019-12-31</td>\n",
       "      <td>NaN</td>\n",
       "      <td>100448</td>\n",
       "      <td>201391</td>\n",
       "      <td>일시불쿠첸압력밥솥 6인용</td>\n",
       "      <td>주방</td>\n",
       "      <td>밥솥</td>\n",
       "      <td>쿠첸</td>\n",
       "      <td>148000</td>\n",
       "      <td>...</td>\n",
       "      <td>0.000</td>\n",
       "      <td>0.0000</td>\n",
       "      <td>0.0</td>\n",
       "      <td>0</td>\n",
       "      <td>12</td>\n",
       "      <td>겨울</td>\n",
       "      <td>저녁</td>\n",
       "      <td>S</td>\n",
       "      <td>0</td>\n",
       "      <td>0</td>\n",
       "    </tr>\n",
       "    <tr>\n",
       "      <th>38296</th>\n",
       "      <td>2019-12-31 23:40:00</td>\n",
       "      <td>2019-12-31</td>\n",
       "      <td>20.0</td>\n",
       "      <td>100448</td>\n",
       "      <td>201383</td>\n",
       "      <td>무이자쿠첸압력밥솥 10인용</td>\n",
       "      <td>주방</td>\n",
       "      <td>밥솥</td>\n",
       "      <td>쿠첸</td>\n",
       "      <td>178000</td>\n",
       "      <td>...</td>\n",
       "      <td>0.038</td>\n",
       "      <td>0.0206</td>\n",
       "      <td>0.0</td>\n",
       "      <td>0</td>\n",
       "      <td>12</td>\n",
       "      <td>겨울</td>\n",
       "      <td>저녁</td>\n",
       "      <td>S</td>\n",
       "      <td>0</td>\n",
       "      <td>1</td>\n",
       "    </tr>\n",
       "    <tr>\n",
       "      <th>38297</th>\n",
       "      <td>2019-12-31 23:40:00</td>\n",
       "      <td>2019-12-31</td>\n",
       "      <td>NaN</td>\n",
       "      <td>100448</td>\n",
       "      <td>201384</td>\n",
       "      <td>무이자쿠첸압력밥솥 6인용</td>\n",
       "      <td>주방</td>\n",
       "      <td>밥솥</td>\n",
       "      <td>쿠첸</td>\n",
       "      <td>158000</td>\n",
       "      <td>...</td>\n",
       "      <td>0.038</td>\n",
       "      <td>0.0206</td>\n",
       "      <td>0.0</td>\n",
       "      <td>0</td>\n",
       "      <td>12</td>\n",
       "      <td>겨울</td>\n",
       "      <td>저녁</td>\n",
       "      <td>S</td>\n",
       "      <td>0</td>\n",
       "      <td>1</td>\n",
       "    </tr>\n",
       "    <tr>\n",
       "      <th>38298</th>\n",
       "      <td>2019-12-31 23:40:00</td>\n",
       "      <td>2019-12-31</td>\n",
       "      <td>NaN</td>\n",
       "      <td>100448</td>\n",
       "      <td>201390</td>\n",
       "      <td>일시불쿠첸압력밥솥 10인용</td>\n",
       "      <td>주방</td>\n",
       "      <td>밥솥</td>\n",
       "      <td>쿠첸</td>\n",
       "      <td>168000</td>\n",
       "      <td>...</td>\n",
       "      <td>0.038</td>\n",
       "      <td>0.0206</td>\n",
       "      <td>0.0</td>\n",
       "      <td>0</td>\n",
       "      <td>12</td>\n",
       "      <td>겨울</td>\n",
       "      <td>저녁</td>\n",
       "      <td>S</td>\n",
       "      <td>0</td>\n",
       "      <td>1</td>\n",
       "    </tr>\n",
       "    <tr>\n",
       "      <th>38299</th>\n",
       "      <td>2019-12-31 23:40:00</td>\n",
       "      <td>2019-12-31</td>\n",
       "      <td>NaN</td>\n",
       "      <td>100448</td>\n",
       "      <td>201391</td>\n",
       "      <td>일시불쿠첸압력밥솥 6인용</td>\n",
       "      <td>주방</td>\n",
       "      <td>밥솥</td>\n",
       "      <td>쿠첸</td>\n",
       "      <td>148000</td>\n",
       "      <td>...</td>\n",
       "      <td>0.038</td>\n",
       "      <td>0.0206</td>\n",
       "      <td>0.0</td>\n",
       "      <td>0</td>\n",
       "      <td>12</td>\n",
       "      <td>겨울</td>\n",
       "      <td>저녁</td>\n",
       "      <td>S</td>\n",
       "      <td>0</td>\n",
       "      <td>1</td>\n",
       "    </tr>\n",
       "  </tbody>\n",
       "</table>\n",
       "<p>38300 rows × 28 columns</p>\n",
       "</div>"
      ],
      "text/plain": [
       "                      방송일시      방송일시.1  노출.분.    마더코드    상품코드             상품명  \\\n",
       "0      2019-01-01 06:00:00  2019-01-01   20.0  100346  201072   테이트 남성 셀린니트3종   \n",
       "1      2019-01-01 06:00:00  2019-01-01    NaN  100346  201079   테이트 여성 셀린니트3종   \n",
       "2      2019-01-01 06:20:00  2019-01-01   20.0  100346  201072   테이트 남성 셀린니트3종   \n",
       "3      2019-01-01 06:20:00  2019-01-01    NaN  100346  201079   테이트 여성 셀린니트3종   \n",
       "4      2019-01-01 06:40:00  2019-01-01   20.0  100346  201072   테이트 남성 셀린니트3종   \n",
       "...                    ...         ...    ...     ...     ...             ...   \n",
       "38295  2019-12-31 23:20:00  2019-12-31    NaN  100448  201391   일시불쿠첸압력밥솥 6인용   \n",
       "38296  2019-12-31 23:40:00  2019-12-31   20.0  100448  201383  무이자쿠첸압력밥솥 10인용   \n",
       "38297  2019-12-31 23:40:00  2019-12-31    NaN  100448  201384   무이자쿠첸압력밥솥 6인용   \n",
       "38298  2019-12-31 23:40:00  2019-12-31    NaN  100448  201390  일시불쿠첸압력밥솥 10인용   \n",
       "38299  2019-12-31 23:40:00  2019-12-31    NaN  100448  201391   일시불쿠첸압력밥솥 6인용   \n",
       "\n",
       "      상품군 상품소분류  브랜드    판매단가  ...  시청률_max  시청률_mean  조기마감차  조기마감여부  month  \\\n",
       "0      의류    상의  테이트   39900  ...    0.000    0.0000    0.0       0      1   \n",
       "1      의류    상의  테이트   39900  ...    0.000    0.0000    0.0       0      1   \n",
       "2      의류    상의  테이트   39900  ...    0.000    0.0000    0.0       0      1   \n",
       "3      의류    상의  테이트   39900  ...    0.000    0.0000    0.0       0      1   \n",
       "4      의류    상의  테이트   39900  ...    0.000    0.0000    0.0       0      1   \n",
       "...    ..   ...  ...     ...  ...      ...       ...    ...     ...    ...   \n",
       "38295  주방    밥솥   쿠첸  148000  ...    0.000    0.0000    0.0       0     12   \n",
       "38296  주방    밥솥   쿠첸  178000  ...    0.038    0.0206    0.0       0     12   \n",
       "38297  주방    밥솥   쿠첸  158000  ...    0.038    0.0206    0.0       0     12   \n",
       "38298  주방    밥솥   쿠첸  168000  ...    0.038    0.0206    0.0       0     12   \n",
       "38299  주방    밥솥   쿠첸  148000  ...    0.038    0.0206    0.0       0     12   \n",
       "\n",
       "       계절  시간대  시간대2  노출빈도  디테일  \n",
       "0      겨울   오전     C     0    0  \n",
       "1      겨울   오전     C     0    0  \n",
       "2      겨울   오전     C     0    0  \n",
       "3      겨울   오전     C     0    0  \n",
       "4      겨울   오전     C     0    1  \n",
       "...    ..  ...   ...   ...  ...  \n",
       "38295  겨울   저녁     S     0    0  \n",
       "38296  겨울   저녁     S     0    1  \n",
       "38297  겨울   저녁     S     0    1  \n",
       "38298  겨울   저녁     S     0    1  \n",
       "38299  겨울   저녁     S     0    1  \n",
       "\n",
       "[38300 rows x 28 columns]"
      ]
     },
     "execution_count": 26,
     "metadata": {},
     "output_type": "execute_result"
    }
   ],
   "source": [
    "df_dropped"
   ]
  },
  {
   "cell_type": "code",
   "execution_count": null,
   "metadata": {},
   "outputs": [],
   "source": []
  },
  {
   "cell_type": "code",
   "execution_count": null,
   "metadata": {},
   "outputs": [],
   "source": []
  },
  {
   "cell_type": "code",
   "execution_count": null,
   "metadata": {},
   "outputs": [],
   "source": []
  },
  {
   "cell_type": "code",
   "execution_count": null,
   "metadata": {},
   "outputs": [],
   "source": []
  },
  {
   "cell_type": "code",
   "execution_count": null,
   "metadata": {},
   "outputs": [],
   "source": []
  },
  {
   "cell_type": "code",
   "execution_count": null,
   "metadata": {},
   "outputs": [],
   "source": []
  },
  {
   "cell_type": "code",
   "execution_count": 24,
   "metadata": {},
   "outputs": [
    {
     "name": "stdout",
     "output_type": "stream",
     "text": [
      "(14418, 29)\n",
      "(38300, 29)\n"
     ]
    }
   ],
   "source": [
    "print(df.shape)\n",
    "print(df1.shape)"
   ]
  },
  {
   "cell_type": "code",
   "execution_count": 25,
   "metadata": {
    "scrolled": true
   },
   "outputs": [
    {
     "data": {
      "text/html": [
       "<div>\n",
       "<style scoped>\n",
       "    .dataframe tbody tr th:only-of-type {\n",
       "        vertical-align: middle;\n",
       "    }\n",
       "\n",
       "    .dataframe tbody tr th {\n",
       "        vertical-align: top;\n",
       "    }\n",
       "\n",
       "    .dataframe thead th {\n",
       "        text-align: right;\n",
       "    }\n",
       "</style>\n",
       "<table border=\"1\" class=\"dataframe\">\n",
       "  <thead>\n",
       "    <tr style=\"text-align: right;\">\n",
       "      <th></th>\n",
       "      <th>방송일시</th>\n",
       "      <th>방송날짜</th>\n",
       "      <th>노출.분.</th>\n",
       "      <th>마더코드</th>\n",
       "      <th>상품코드</th>\n",
       "      <th>상품명</th>\n",
       "      <th>상품군</th>\n",
       "      <th>상품소분류</th>\n",
       "      <th>브랜드</th>\n",
       "      <th>판매단가</th>\n",
       "      <th>...</th>\n",
       "      <th>시청률_mean</th>\n",
       "      <th>조기마감차</th>\n",
       "      <th>조기마감여부</th>\n",
       "      <th>month</th>\n",
       "      <th>계절</th>\n",
       "      <th>시간대</th>\n",
       "      <th>시간대2</th>\n",
       "      <th>노출빈도</th>\n",
       "      <th>디테일</th>\n",
       "      <th>평균기온</th>\n",
       "    </tr>\n",
       "  </thead>\n",
       "  <tbody>\n",
       "    <tr>\n",
       "      <th>0</th>\n",
       "      <td>2019-01-01 16:00:00</td>\n",
       "      <td>2019-01-01</td>\n",
       "      <td>20.0</td>\n",
       "      <td>100322</td>\n",
       "      <td>201479</td>\n",
       "      <td>국내산 손질갑오징어 8팩</td>\n",
       "      <td>농수축</td>\n",
       "      <td>수산</td>\n",
       "      <td>노브랜드</td>\n",
       "      <td>49900</td>\n",
       "      <td>...</td>\n",
       "      <td>0.00760</td>\n",
       "      <td>0.0</td>\n",
       "      <td>0</td>\n",
       "      <td>1</td>\n",
       "      <td>겨울</td>\n",
       "      <td>오후</td>\n",
       "      <td>A</td>\n",
       "      <td>1</td>\n",
       "      <td>0</td>\n",
       "      <td>1.390</td>\n",
       "    </tr>\n",
       "    <tr>\n",
       "      <th>1</th>\n",
       "      <td>2019-01-01 16:20:00</td>\n",
       "      <td>2019-01-01</td>\n",
       "      <td>20.0</td>\n",
       "      <td>100322</td>\n",
       "      <td>201479</td>\n",
       "      <td>국내산 손질갑오징어 8팩</td>\n",
       "      <td>농수축</td>\n",
       "      <td>수산</td>\n",
       "      <td>노브랜드</td>\n",
       "      <td>49900</td>\n",
       "      <td>...</td>\n",
       "      <td>0.00050</td>\n",
       "      <td>0.0</td>\n",
       "      <td>0</td>\n",
       "      <td>1</td>\n",
       "      <td>겨울</td>\n",
       "      <td>오후</td>\n",
       "      <td>A</td>\n",
       "      <td>1</td>\n",
       "      <td>1</td>\n",
       "      <td>1.015</td>\n",
       "    </tr>\n",
       "    <tr>\n",
       "      <th>2</th>\n",
       "      <td>2019-01-01 16:40:00</td>\n",
       "      <td>2019-01-01</td>\n",
       "      <td>20.0</td>\n",
       "      <td>100849</td>\n",
       "      <td>202512</td>\n",
       "      <td>멋진밥상 흥양농협 햅쌀 20kg</td>\n",
       "      <td>농수축</td>\n",
       "      <td>농산</td>\n",
       "      <td>멋진밥상</td>\n",
       "      <td>61000</td>\n",
       "      <td>...</td>\n",
       "      <td>0.00305</td>\n",
       "      <td>0.0</td>\n",
       "      <td>0</td>\n",
       "      <td>1</td>\n",
       "      <td>겨울</td>\n",
       "      <td>오후</td>\n",
       "      <td>A</td>\n",
       "      <td>0</td>\n",
       "      <td>0</td>\n",
       "      <td>1.015</td>\n",
       "    </tr>\n",
       "    <tr>\n",
       "      <th>3</th>\n",
       "      <td>2019-01-01 17:00:00</td>\n",
       "      <td>2019-01-01</td>\n",
       "      <td>20.0</td>\n",
       "      <td>100074</td>\n",
       "      <td>200197</td>\n",
       "      <td>비버리힐스폴로클럽 남성기초세트(2018FW골드)</td>\n",
       "      <td>이미용</td>\n",
       "      <td>남성화장품</td>\n",
       "      <td>비버리힐스폴로클럽</td>\n",
       "      <td>39800</td>\n",
       "      <td>...</td>\n",
       "      <td>0.00070</td>\n",
       "      <td>0.0</td>\n",
       "      <td>0</td>\n",
       "      <td>1</td>\n",
       "      <td>겨울</td>\n",
       "      <td>오후</td>\n",
       "      <td>A</td>\n",
       "      <td>0</td>\n",
       "      <td>0</td>\n",
       "      <td>0.640</td>\n",
       "    </tr>\n",
       "    <tr>\n",
       "      <th>4</th>\n",
       "      <td>2019-01-01 17:20:00</td>\n",
       "      <td>2019-01-01</td>\n",
       "      <td>20.0</td>\n",
       "      <td>100074</td>\n",
       "      <td>200197</td>\n",
       "      <td>비버리힐스폴로클럽 남성기초세트(2018FW골드)</td>\n",
       "      <td>이미용</td>\n",
       "      <td>남성화장품</td>\n",
       "      <td>비버리힐스폴로클럽</td>\n",
       "      <td>39800</td>\n",
       "      <td>...</td>\n",
       "      <td>0.00085</td>\n",
       "      <td>0.0</td>\n",
       "      <td>0</td>\n",
       "      <td>1</td>\n",
       "      <td>겨울</td>\n",
       "      <td>오후</td>\n",
       "      <td>A</td>\n",
       "      <td>0</td>\n",
       "      <td>0</td>\n",
       "      <td>0.285</td>\n",
       "    </tr>\n",
       "  </tbody>\n",
       "</table>\n",
       "<p>5 rows × 29 columns</p>\n",
       "</div>"
      ],
      "text/plain": [
       "                 방송일시       방송날짜  노출.분.    마더코드    상품코드  \\\n",
       "0 2019-01-01 16:00:00 2019-01-01   20.0  100322  201479   \n",
       "1 2019-01-01 16:20:00 2019-01-01   20.0  100322  201479   \n",
       "2 2019-01-01 16:40:00 2019-01-01   20.0  100849  202512   \n",
       "3 2019-01-01 17:00:00 2019-01-01   20.0  100074  200197   \n",
       "4 2019-01-01 17:20:00 2019-01-01   20.0  100074  200197   \n",
       "\n",
       "                          상품명  상품군  상품소분류        브랜드   판매단가  ...  시청률_mean  \\\n",
       "0               국내산 손질갑오징어 8팩  농수축     수산       노브랜드  49900  ...   0.00760   \n",
       "1               국내산 손질갑오징어 8팩  농수축     수산       노브랜드  49900  ...   0.00050   \n",
       "2           멋진밥상 흥양농협 햅쌀 20kg  농수축     농산       멋진밥상  61000  ...   0.00305   \n",
       "3  비버리힐스폴로클럽 남성기초세트(2018FW골드)  이미용  남성화장품  비버리힐스폴로클럽  39800  ...   0.00070   \n",
       "4  비버리힐스폴로클럽 남성기초세트(2018FW골드)  이미용  남성화장품  비버리힐스폴로클럽  39800  ...   0.00085   \n",
       "\n",
       "   조기마감차  조기마감여부  month  계절 시간대  시간대2  노출빈도  디테일   평균기온  \n",
       "0    0.0       0      1  겨울  오후     A     1    0  1.390  \n",
       "1    0.0       0      1  겨울  오후     A     1    1  1.015  \n",
       "2    0.0       0      1  겨울  오후     A     0    0  1.015  \n",
       "3    0.0       0      1  겨울  오후     A     0    0  0.640  \n",
       "4    0.0       0      1  겨울  오후     A     0    0  0.285  \n",
       "\n",
       "[5 rows x 29 columns]"
      ]
     },
     "execution_count": 25,
     "metadata": {},
     "output_type": "execute_result"
    }
   ],
   "source": [
    "df.head()"
   ]
  },
  {
   "cell_type": "code",
   "execution_count": 26,
   "metadata": {},
   "outputs": [
    {
     "name": "stdout",
     "output_type": "stream",
     "text": [
      "<class 'pandas.core.frame.DataFrame'>\n"
     ]
    }
   ],
   "source": [
    "print(type(df))"
   ]
  },
  {
   "cell_type": "code",
   "execution_count": 27,
   "metadata": {},
   "outputs": [
    {
     "name": "stdout",
     "output_type": "stream",
     "text": [
      "(14418, 29)\n"
     ]
    }
   ],
   "source": [
    "print(df.shape)"
   ]
  },
  {
   "cell_type": "code",
   "execution_count": 28,
   "metadata": {},
   "outputs": [
    {
     "name": "stdout",
     "output_type": "stream",
     "text": [
      "Index(['방송일시', '방송날짜', '노출.분.', '마더코드', '상품코드', '상품명', '상품군', '상품소분류', '브랜드',\n",
      "       '판매단가', '취급액', '판매수량', 'group', '시간', '분', '요일', '요일1', '노출시간',\n",
      "       '시청률_max', '시청률_mean', '조기마감차', '조기마감여부', 'month', '계절', '시간대', '시간대2',\n",
      "       '노출빈도', '디테일', '평균기온'],\n",
      "      dtype='object')\n"
     ]
    }
   ],
   "source": [
    "print(df.columns)"
   ]
  },
  {
   "cell_type": "code",
   "execution_count": 29,
   "metadata": {},
   "outputs": [
    {
     "name": "stdout",
     "output_type": "stream",
     "text": [
      "<class 'pandas.core.frame.DataFrame'>\n",
      "RangeIndex: 14418 entries, 0 to 14417\n",
      "Data columns (total 29 columns):\n",
      " #   Column    Non-Null Count  Dtype         \n",
      "---  ------    --------------  -----         \n",
      " 0   방송일시      14418 non-null  datetime64[ns]\n",
      " 1   방송날짜      14418 non-null  datetime64[ns]\n",
      " 2   노출.분.     7671 non-null   float64       \n",
      " 3   마더코드      14418 non-null  int64         \n",
      " 4   상품코드      14418 non-null  int64         \n",
      " 5   상품명       14418 non-null  object        \n",
      " 6   상품군       14418 non-null  object        \n",
      " 7   상품소분류     14418 non-null  object        \n",
      " 8   브랜드       14418 non-null  object        \n",
      " 9   판매단가      14418 non-null  int64         \n",
      " 10  취급액       14418 non-null  int64         \n",
      " 11  판매수량      14418 non-null  float64       \n",
      " 12  group     14418 non-null  int64         \n",
      " 13  시간        14418 non-null  int64         \n",
      " 14  분         14418 non-null  int64         \n",
      " 15  요일        14418 non-null  object        \n",
      " 16  요일1       14418 non-null  int64         \n",
      " 17  노출시간      14418 non-null  int64         \n",
      " 18  시청률_max   14418 non-null  float64       \n",
      " 19  시청률_mean  14418 non-null  float64       \n",
      " 20  조기마감차     14418 non-null  float64       \n",
      " 21  조기마감여부    14418 non-null  int64         \n",
      " 22  month     14418 non-null  int64         \n",
      " 23  계절        14418 non-null  object        \n",
      " 24  시간대       14418 non-null  object        \n",
      " 25  시간대2      14418 non-null  object        \n",
      " 26  노출빈도      14418 non-null  int64         \n",
      " 27  디테일       14418 non-null  int64         \n",
      " 28  평균기온      14418 non-null  float64       \n",
      "dtypes: datetime64[ns](2), float64(6), int64(13), object(8)\n",
      "memory usage: 3.2+ MB\n",
      "None\n"
     ]
    }
   ],
   "source": [
    "print(df.info())"
   ]
  },
  {
   "cell_type": "code",
   "execution_count": 30,
   "metadata": {},
   "outputs": [
    {
     "name": "stdout",
     "output_type": "stream",
     "text": [
      "<class 'pandas.core.series.Series'>\n"
     ]
    }
   ],
   "source": [
    "date_df = df['방송일시']\n",
    "print(type(date_df))"
   ]
  },
  {
   "cell_type": "code",
   "execution_count": 31,
   "metadata": {},
   "outputs": [
    {
     "data": {
      "text/plain": [
       "0   2019-01-01 16:00:00\n",
       "1   2019-01-01 16:20:00\n",
       "2   2019-01-01 16:40:00\n",
       "3   2019-01-01 17:00:00\n",
       "4   2019-01-01 17:20:00\n",
       "Name: 방송일시, dtype: datetime64[ns]"
      ]
     },
     "execution_count": 31,
     "metadata": {},
     "output_type": "execute_result"
    }
   ],
   "source": [
    "date_df.head()"
   ]
  },
  {
   "cell_type": "code",
   "execution_count": 32,
   "metadata": {},
   "outputs": [
    {
     "data": {
      "text/html": [
       "<div>\n",
       "<style scoped>\n",
       "    .dataframe tbody tr th:only-of-type {\n",
       "        vertical-align: middle;\n",
       "    }\n",
       "\n",
       "    .dataframe tbody tr th {\n",
       "        vertical-align: top;\n",
       "    }\n",
       "\n",
       "    .dataframe thead th {\n",
       "        text-align: right;\n",
       "    }\n",
       "</style>\n",
       "<table border=\"1\" class=\"dataframe\">\n",
       "  <thead>\n",
       "    <tr style=\"text-align: right;\">\n",
       "      <th></th>\n",
       "      <th>시간대</th>\n",
       "      <th>시간대2</th>\n",
       "    </tr>\n",
       "  </thead>\n",
       "  <tbody>\n",
       "    <tr>\n",
       "      <th>0</th>\n",
       "      <td>오후</td>\n",
       "      <td>A</td>\n",
       "    </tr>\n",
       "    <tr>\n",
       "      <th>1</th>\n",
       "      <td>오후</td>\n",
       "      <td>A</td>\n",
       "    </tr>\n",
       "    <tr>\n",
       "      <th>2</th>\n",
       "      <td>오후</td>\n",
       "      <td>A</td>\n",
       "    </tr>\n",
       "    <tr>\n",
       "      <th>3</th>\n",
       "      <td>오후</td>\n",
       "      <td>A</td>\n",
       "    </tr>\n",
       "    <tr>\n",
       "      <th>4</th>\n",
       "      <td>오후</td>\n",
       "      <td>A</td>\n",
       "    </tr>\n",
       "  </tbody>\n",
       "</table>\n",
       "</div>"
      ],
      "text/plain": [
       "  시간대 시간대2\n",
       "0  오후    A\n",
       "1  오후    A\n",
       "2  오후    A\n",
       "3  오후    A\n",
       "4  오후    A"
      ]
     },
     "execution_count": 32,
     "metadata": {},
     "output_type": "execute_result"
    }
   ],
   "source": [
    "time = df[['시간대','시간대2']]\n",
    "time.head()"
   ]
  },
  {
   "cell_type": "code",
   "execution_count": 33,
   "metadata": {},
   "outputs": [],
   "source": [
    "df.rename({'방송일시.1':'방송날짜'},axis = 'columns',inplace = True)"
   ]
  },
  {
   "cell_type": "code",
   "execution_count": 34,
   "metadata": {},
   "outputs": [
    {
     "data": {
      "text/plain": [
       "일요일    2262\n",
       "토요일    2139\n",
       "수요일    2131\n",
       "화요일    2083\n",
       "금요일    2003\n",
       "목요일    1991\n",
       "월요일    1809\n",
       "Name: 요일, dtype: int64"
      ]
     },
     "execution_count": 34,
     "metadata": {},
     "output_type": "execute_result"
    }
   ],
   "source": [
    "df['요일'].value_counts()"
   ]
  },
  {
   "cell_type": "code",
   "execution_count": 35,
   "metadata": {
    "scrolled": true
   },
   "outputs": [
    {
     "data": {
      "text/plain": [
       "2    6205\n",
       "4    4401\n",
       "3    2003\n",
       "1    1809\n",
       "Name: 요일1, dtype: int64"
      ]
     },
     "execution_count": 35,
     "metadata": {},
     "output_type": "execute_result"
    }
   ],
   "source": [
    "df['요일1'].value_counts()"
   ]
  },
  {
   "cell_type": "code",
   "execution_count": 36,
   "metadata": {},
   "outputs": [
    {
     "data": {
      "text/plain": [
       "가전      3951\n",
       "주방      3188\n",
       "농수축     2499\n",
       "가구      1434\n",
       "이미용      919\n",
       "생활용품     749\n",
       "잡화       670\n",
       "속옷       436\n",
       "의류       366\n",
       "건강기능     182\n",
       "침구        24\n",
       "Name: 상품군, dtype: int64"
      ]
     },
     "execution_count": 36,
     "metadata": {},
     "output_type": "execute_result"
    }
   ],
   "source": [
    "df['상품군'].value_counts()"
   ]
  },
  {
   "cell_type": "code",
   "execution_count": 37,
   "metadata": {},
   "outputs": [
    {
     "data": {
      "text/plain": [
       "주방      6600\n",
       "가전      6479\n",
       "의류      4340\n",
       "속옷      3919\n",
       "잡화      3891\n",
       "농수축     3884\n",
       "생활용품    2877\n",
       "가구      2614\n",
       "이미용     1305\n",
       "무형       932\n",
       "건강기능     790\n",
       "침구       669\n",
       "Name: 상품군, dtype: int64"
      ]
     },
     "execution_count": 37,
     "metadata": {},
     "output_type": "execute_result"
    }
   ],
   "source": [
    "df1['상품군'].value_counts()"
   ]
  },
  {
   "cell_type": "code",
   "execution_count": 38,
   "metadata": {},
   "outputs": [
    {
     "data": {
      "text/plain": [
       "상품군\n",
       "가구        21.542231\n",
       "가전        13.564967\n",
       "건강기능     342.972158\n",
       "농수축     1109.641640\n",
       "생활용품     142.057564\n",
       "속옷       307.510760\n",
       "의류       520.899476\n",
       "이미용      959.550326\n",
       "잡화       352.215512\n",
       "주방       137.443320\n",
       "침구         5.581561\n",
       "Name: 판매수량, dtype: float64"
      ]
     },
     "execution_count": 38,
     "metadata": {},
     "output_type": "execute_result"
    }
   ],
   "source": [
    "df.groupby('상품군')['판매수량'].mean()"
   ]
  },
  {
   "cell_type": "code",
   "execution_count": 39,
   "metadata": {},
   "outputs": [
    {
     "data": {
      "text/plain": [
       "상품군\n",
       "가구      1.414431e+07\n",
       "가전      1.588320e+07\n",
       "건강기능    2.601503e+07\n",
       "농수축     4.504650e+07\n",
       "생활용품    2.075030e+07\n",
       "속옷      2.340672e+07\n",
       "의류      2.750629e+07\n",
       "이미용     4.448641e+07\n",
       "잡화      1.926350e+07\n",
       "주방      1.896435e+07\n",
       "침구      1.059417e+06\n",
       "Name: 취급액, dtype: float64"
      ]
     },
     "execution_count": 39,
     "metadata": {},
     "output_type": "execute_result"
    }
   ],
   "source": [
    "df.groupby('상품군')['취급액'].mean()"
   ]
  },
  {
   "cell_type": "code",
   "execution_count": 40,
   "metadata": {
    "scrolled": false
   },
   "outputs": [
    {
     "data": {
      "text/plain": [
       "상품소분류\n",
       "TV          7.589456\n",
       "가스레인지      40.080221\n",
       "건강기능      342.972158\n",
       "그릴        243.327731\n",
       "금고         20.040382\n",
       "기타생활       78.145570\n",
       "남성내의      362.548377\n",
       "남성속옷      192.415218\n",
       "남성신발      390.555552\n",
       "남성화장품    1164.595847\n",
       "냄비류       182.781551\n",
       "냉장고        22.840830\n",
       "농산        883.436744\n",
       "런닝        657.942552\n",
       "레인지       125.010459\n",
       "매트        108.749601\n",
       "모자        938.741379\n",
       "믹서기       412.629537\n",
       "밥솥         62.717329\n",
       "백팩        178.559322\n",
       "상의        492.819077\n",
       "선글라스      459.668348\n",
       "선풍기       245.370627\n",
       "세탁기       157.644361\n",
       "소파          8.583137\n",
       "수산       1199.710685\n",
       "스카프        43.091521\n",
       "식기건조       95.923473\n",
       "식기류       853.768407\n",
       "아우터       646.050162\n",
       "양산        648.457802\n",
       "에어컨        10.956002\n",
       "여성속옷      427.390851\n",
       "여성신발      658.647318\n",
       "여성화장품     623.474834\n",
       "욕실        237.513474\n",
       "용기류       520.152171\n",
       "의료용품      211.982834\n",
       "의류용품     1921.569579\n",
       "장신구         6.196669\n",
       "청소기       296.934327\n",
       "축산       1121.886287\n",
       "침구          5.581561\n",
       "침대         33.067117\n",
       "테이블        54.195413\n",
       "프라이어      238.210875\n",
       "하의        406.986595\n",
       "핸드백       227.721875\n",
       "Name: 판매수량, dtype: float64"
      ]
     },
     "execution_count": 40,
     "metadata": {},
     "output_type": "execute_result"
    }
   ],
   "source": [
    "df.groupby('상품소분류')['판매수량'].mean()"
   ]
  },
  {
   "cell_type": "code",
   "execution_count": 11,
   "metadata": {
    "scrolled": false
   },
   "outputs": [
    {
     "data": {
      "text/plain": [
       "<AxesSubplot:xlabel='요일', ylabel='판매수량'>"
      ]
     },
     "execution_count": 11,
     "metadata": {},
     "output_type": "execute_result"
    },
    {
     "data": {
      "image/png": "[encoded data removed]",
      "text/plain": [
       "<Figure size 864x576 with 4 Axes>"
      ]
     },
     "metadata": {
      "needs_background": "light"
     },
     "output_type": "display_data"
    }
   ],
   "source": [
    "plt.figure(figsize=(12, 8))\n",
    "plt.subplot(2,2,1)\n",
    "sns.countplot(data=df, x='상품군')\n",
    "plt.subplot(2,2,2)\n",
    "sns.barplot(x='상품군', y='취급액', data=df)\n",
    "plt.subplot(2,2,3)\n",
    "sns.barplot(x = '요일1',y = '판매수량', data = df)\n",
    "plt.subplot(2,2,4)\n",
    "sns.barplot(x = '요일',y = '판매수량', data = df)"
   ]
  },
  {
   "cell_type": "code",
   "execution_count": 76,
   "metadata": {},
   "outputs": [
    {
     "data": {
      "text/plain": [
       "Index(['방송일시', '방송날짜', '노출.분.', '마더코드', '상품코드', '상품명', '상품군', '상품소분류', '브랜드',\n",
       "       '판매단가', '취급액', '판매수량', 'group', '시간', '분', '요일', '요일1', '노출시간',\n",
       "       '시청률_max', '시청률_mean', '조기마감차', '조기마감여부', 'month', '계절', '시간대', '시간대2',\n",
       "       '노출빈도', '디테일', '평균기온'],\n",
       "      dtype='object')"
      ]
     },
     "execution_count": 76,
     "metadata": {},
     "output_type": "execute_result"
    }
   ],
   "source": [
    "df.columns"
   ]
  },
  {
   "cell_type": "code",
   "execution_count": 78,
   "metadata": {},
   "outputs": [
    {
     "data": {
      "text/plain": [
       "<AxesSubplot:xlabel='계절', ylabel='판매수량'>"
      ]
     },
     "execution_count": 78,
     "metadata": {},
     "output_type": "execute_result"
    },
    {
     "data": {
      "image/png": "[encoded data removed]",
      "text/plain": [
       "<Figure size 432x288 with 1 Axes>"
      ]
     },
     "metadata": {
      "needs_background": "light"
     },
     "output_type": "display_data"
    }
   ],
   "source": [
    "sns.barplot(x = '계절', y = '판매수량',data =df)"
   ]
  },
  {
   "cell_type": "code",
   "execution_count": null,
   "metadata": {},
   "outputs": [],
   "source": []
  }
 ],
 "metadata": {
  "kernelspec": {
   "display_name": "Python 3",
   "language": "python",
   "name": "python3"
  },
  "language_info": {
   "codemirror_mode": {
    "name": "ipython",
    "version": 3
   },
   "file_extension": ".py",
   "mimetype": "text/x-python",
   "name": "python",
   "nbconvert_exporter": "python",
   "pygments_lexer": "ipython3",
   "version": "3.8.3"
  }
 },
 "nbformat": 4,
 "nbformat_minor": 4
}
