{
 "cells": [
  {
   "cell_type": "code",
   "execution_count": 157,
   "metadata": {},
   "outputs": [],
   "source": [
    "import numpy as np\n",
    "import pandas as pd\n",
    "from matplotlib import pyplot as plt\n",
    "from sklearn.datasets.samples_generator import make_blobs\n",
    "from sklearn.cluster import KMeans\n",
    "from sklearn.preprocessing import StandardScaler\n",
    "import seaborn as sns"
   ]
  },
  {
   "cell_type": "code",
   "execution_count": 2,
   "metadata": {},
   "outputs": [],
   "source": [
    "import os\n",
    "os.chdir('C:/Users/82109/Dropbox/내 PC (DESKTOP-NND5VU7)/Desktop/bigcon')"
   ]
  },
  {
   "cell_type": "code",
   "execution_count": 3,
   "metadata": {},
   "outputs": [],
   "source": [
    "df = pd.read_excel('All data.xlsx')"
   ]
  },
  {
   "cell_type": "code",
   "execution_count": 136,
   "metadata": {
    "scrolled": true
   },
   "outputs": [
    {
     "name": "stdout",
     "output_type": "stream",
     "text": [
      "<class 'pandas.core.frame.DataFrame'>\n",
      "RangeIndex: 35378 entries, 0 to 35377\n",
      "Data columns (total 22 columns):\n",
      " #   Column        Non-Null Count  Dtype  \n",
      "---  ------        --------------  -----  \n",
      " 0   상품군           35378 non-null  object \n",
      " 1   상품소분류         35378 non-null  object \n",
      " 2   브랜드명          35378 non-null  object \n",
      " 3   판매단가          35378 non-null  int64  \n",
      " 4   취급액           35378 non-null  int64  \n",
      " 5   판매수량          35378 non-null  float64\n",
      " 6   방송시간대         35378 non-null  int64  \n",
      " 7   방송분대          35378 non-null  int64  \n",
      " 8   요일            35378 non-null  object \n",
      " 9   노출시간          35378 non-null  int64  \n",
      " 10  최대시청률         35378 non-null  float64\n",
      " 11  조기마감여부        35378 non-null  int64  \n",
      " 12  월             35378 non-null  int64  \n",
      " 13  계절            35378 non-null  object \n",
      " 14  시간대           35378 non-null  object \n",
      " 15  판매수량시간등급수능    35378 non-null  object \n",
      " 16  판매수량시간등급사분위수  35378 non-null  object \n",
      " 17  노출빈도여부        35378 non-null  int64  \n",
      " 18  디테일여부         35378 non-null  int64  \n",
      " 19  평균기온          35378 non-null  float64\n",
      " 20  단가_cluster    35378 non-null  int32  \n",
      " 21  판매단가_Range    35378 non-null  object \n",
      "dtypes: float64(3), int32(1), int64(9), object(9)\n",
      "memory usage: 5.8+ MB\n"
     ]
    }
   ],
   "source": [
    "df.info()"
   ]
  },
  {
   "cell_type": "code",
   "execution_count": 149,
   "metadata": {
    "scrolled": false
   },
   "outputs": [
    {
     "data": {
      "text/html": [
       "<div>\n",
       "<style scoped>\n",
       "    .dataframe tbody tr th:only-of-type {\n",
       "        vertical-align: middle;\n",
       "    }\n",
       "\n",
       "    .dataframe tbody tr th {\n",
       "        vertical-align: top;\n",
       "    }\n",
       "\n",
       "    .dataframe thead th {\n",
       "        text-align: right;\n",
       "    }\n",
       "</style>\n",
       "<table border=\"1\" class=\"dataframe\">\n",
       "  <thead>\n",
       "    <tr style=\"text-align: right;\">\n",
       "      <th></th>\n",
       "      <th>상품군</th>\n",
       "      <th>상품소분류</th>\n",
       "      <th>브랜드명</th>\n",
       "      <th>판매단가</th>\n",
       "      <th>취급액</th>\n",
       "      <th>판매수량</th>\n",
       "      <th>방송시간대</th>\n",
       "      <th>방송분대</th>\n",
       "      <th>요일</th>\n",
       "      <th>노출시간</th>\n",
       "      <th>...</th>\n",
       "      <th>월</th>\n",
       "      <th>계절</th>\n",
       "      <th>시간대</th>\n",
       "      <th>판매수량시간등급수능</th>\n",
       "      <th>판매수량시간등급사분위수</th>\n",
       "      <th>노출빈도여부</th>\n",
       "      <th>디테일여부</th>\n",
       "      <th>평균기온</th>\n",
       "      <th>단가_cluster</th>\n",
       "      <th>판매단가_Range</th>\n",
       "    </tr>\n",
       "  </thead>\n",
       "  <tbody>\n",
       "    <tr>\n",
       "      <th>0</th>\n",
       "      <td>의류</td>\n",
       "      <td>상의</td>\n",
       "      <td>테이트</td>\n",
       "      <td>39900</td>\n",
       "      <td>2099000</td>\n",
       "      <td>52.606516</td>\n",
       "      <td>6</td>\n",
       "      <td>0</td>\n",
       "      <td>화요일</td>\n",
       "      <td>20</td>\n",
       "      <td>...</td>\n",
       "      <td>1</td>\n",
       "      <td>겨울</td>\n",
       "      <td>오전</td>\n",
       "      <td>B</td>\n",
       "      <td>B</td>\n",
       "      <td>0</td>\n",
       "      <td>0</td>\n",
       "      <td>-3.70</td>\n",
       "      <td>0</td>\n",
       "      <td>1</td>\n",
       "    </tr>\n",
       "    <tr>\n",
       "      <th>1</th>\n",
       "      <td>의류</td>\n",
       "      <td>상의</td>\n",
       "      <td>테이트</td>\n",
       "      <td>39900</td>\n",
       "      <td>4371000</td>\n",
       "      <td>109.548872</td>\n",
       "      <td>6</td>\n",
       "      <td>0</td>\n",
       "      <td>화요일</td>\n",
       "      <td>20</td>\n",
       "      <td>...</td>\n",
       "      <td>1</td>\n",
       "      <td>겨울</td>\n",
       "      <td>오전</td>\n",
       "      <td>B</td>\n",
       "      <td>B</td>\n",
       "      <td>0</td>\n",
       "      <td>0</td>\n",
       "      <td>-3.70</td>\n",
       "      <td>0</td>\n",
       "      <td>1</td>\n",
       "    </tr>\n",
       "    <tr>\n",
       "      <th>2</th>\n",
       "      <td>의류</td>\n",
       "      <td>상의</td>\n",
       "      <td>테이트</td>\n",
       "      <td>39900</td>\n",
       "      <td>3262000</td>\n",
       "      <td>81.754386</td>\n",
       "      <td>6</td>\n",
       "      <td>20</td>\n",
       "      <td>화요일</td>\n",
       "      <td>20</td>\n",
       "      <td>...</td>\n",
       "      <td>1</td>\n",
       "      <td>겨울</td>\n",
       "      <td>오전</td>\n",
       "      <td>B</td>\n",
       "      <td>B</td>\n",
       "      <td>0</td>\n",
       "      <td>0</td>\n",
       "      <td>-3.71</td>\n",
       "      <td>0</td>\n",
       "      <td>1</td>\n",
       "    </tr>\n",
       "    <tr>\n",
       "      <th>3</th>\n",
       "      <td>의류</td>\n",
       "      <td>상의</td>\n",
       "      <td>테이트</td>\n",
       "      <td>39900</td>\n",
       "      <td>6955000</td>\n",
       "      <td>174.310777</td>\n",
       "      <td>6</td>\n",
       "      <td>20</td>\n",
       "      <td>화요일</td>\n",
       "      <td>20</td>\n",
       "      <td>...</td>\n",
       "      <td>1</td>\n",
       "      <td>겨울</td>\n",
       "      <td>오전</td>\n",
       "      <td>B</td>\n",
       "      <td>B</td>\n",
       "      <td>0</td>\n",
       "      <td>0</td>\n",
       "      <td>-3.71</td>\n",
       "      <td>0</td>\n",
       "      <td>1</td>\n",
       "    </tr>\n",
       "    <tr>\n",
       "      <th>4</th>\n",
       "      <td>의류</td>\n",
       "      <td>상의</td>\n",
       "      <td>테이트</td>\n",
       "      <td>39900</td>\n",
       "      <td>6672000</td>\n",
       "      <td>167.218045</td>\n",
       "      <td>6</td>\n",
       "      <td>40</td>\n",
       "      <td>화요일</td>\n",
       "      <td>20</td>\n",
       "      <td>...</td>\n",
       "      <td>1</td>\n",
       "      <td>겨울</td>\n",
       "      <td>오전</td>\n",
       "      <td>B</td>\n",
       "      <td>B</td>\n",
       "      <td>0</td>\n",
       "      <td>1</td>\n",
       "      <td>-3.71</td>\n",
       "      <td>0</td>\n",
       "      <td>1</td>\n",
       "    </tr>\n",
       "  </tbody>\n",
       "</table>\n",
       "<p>5 rows × 22 columns</p>\n",
       "</div>"
      ],
      "text/plain": [
       "  상품군 상품소분류 브랜드명   판매단가      취급액        판매수량  방송시간대  방송분대   요일  노출시간  ...  월  \\\n",
       "0  의류    상의  테이트  39900  2099000   52.606516      6     0  화요일    20  ...  1   \n",
       "1  의류    상의  테이트  39900  4371000  109.548872      6     0  화요일    20  ...  1   \n",
       "2  의류    상의  테이트  39900  3262000   81.754386      6    20  화요일    20  ...  1   \n",
       "3  의류    상의  테이트  39900  6955000  174.310777      6    20  화요일    20  ...  1   \n",
       "4  의류    상의  테이트  39900  6672000  167.218045      6    40  화요일    20  ...  1   \n",
       "\n",
       "   계절  시간대 판매수량시간등급수능 판매수량시간등급사분위수 노출빈도여부 디테일여부  평균기온  단가_cluster  판매단가_Range  \n",
       "0  겨울   오전          B            B      0     0 -3.70           0           1  \n",
       "1  겨울   오전          B            B      0     0 -3.70           0           1  \n",
       "2  겨울   오전          B            B      0     0 -3.71           0           1  \n",
       "3  겨울   오전          B            B      0     0 -3.71           0           1  \n",
       "4  겨울   오전          B            B      0     1 -3.71           0           1  \n",
       "\n",
       "[5 rows x 22 columns]"
      ]
     },
     "execution_count": 149,
     "metadata": {},
     "output_type": "execute_result"
    }
   ],
   "source": [
    "df.head()"
   ]
  },
  {
   "cell_type": "code",
   "execution_count": 161,
   "metadata": {
    "scrolled": true
   },
   "outputs": [
    {
     "data": {
      "text/plain": [
       "<matplotlib.collections.PathCollection at 0x254728cf8e0>"
      ]
     },
     "execution_count": 161,
     "metadata": {},
     "output_type": "execute_result"
    },
    {
     "data": {
      "image/png": "[encoded data removed]",
      "text/plain": [
       "<Figure size 432x288 with 1 Axes>"
      ]
     },
     "metadata": {
      "needs_background": "light"
     },
     "output_type": "display_data"
    }
   ],
   "source": [
    "plt.scatter(df['평균기온'],df['판매수량'])"
   ]
  },
  {
   "cell_type": "code",
   "execution_count": 162,
   "metadata": {
    "scrolled": true
   },
   "outputs": [
    {
     "data": {
      "text/plain": [
       "<AxesSubplot:xlabel='평균기온'>"
      ]
     },
     "execution_count": 162,
     "metadata": {},
     "output_type": "execute_result"
    },
    {
     "name": "stderr",
     "output_type": "stream",
     "text": [
      "C:\\Users\\82109\\anaconda3\\lib\\site-packages\\matplotlib\\backends\\backend_agg.py:238: RuntimeWarning: Glyph 54217 missing from current font.\n",
      "  font.set_text(s, 0.0, flags=flags)\n",
      "C:\\Users\\82109\\anaconda3\\lib\\site-packages\\matplotlib\\backends\\backend_agg.py:238: RuntimeWarning: Glyph 44512 missing from current font.\n",
      "  font.set_text(s, 0.0, flags=flags)\n",
      "C:\\Users\\82109\\anaconda3\\lib\\site-packages\\matplotlib\\backends\\backend_agg.py:238: RuntimeWarning: Glyph 44592 missing from current font.\n",
      "  font.set_text(s, 0.0, flags=flags)\n",
      "C:\\Users\\82109\\anaconda3\\lib\\site-packages\\matplotlib\\backends\\backend_agg.py:238: RuntimeWarning: Glyph 50728 missing from current font.\n",
      "  font.set_text(s, 0.0, flags=flags)\n",
      "C:\\Users\\82109\\anaconda3\\lib\\site-packages\\matplotlib\\backends\\backend_agg.py:201: RuntimeWarning: Glyph 54217 missing from current font.\n",
      "  font.set_text(s, 0, flags=flags)\n",
      "C:\\Users\\82109\\anaconda3\\lib\\site-packages\\matplotlib\\backends\\backend_agg.py:201: RuntimeWarning: Glyph 44512 missing from current font.\n",
      "  font.set_text(s, 0, flags=flags)\n",
      "C:\\Users\\82109\\anaconda3\\lib\\site-packages\\matplotlib\\backends\\backend_agg.py:201: RuntimeWarning: Glyph 44592 missing from current font.\n",
      "  font.set_text(s, 0, flags=flags)\n",
      "C:\\Users\\82109\\anaconda3\\lib\\site-packages\\matplotlib\\backends\\backend_agg.py:201: RuntimeWarning: Glyph 50728 missing from current font.\n",
      "  font.set_text(s, 0, flags=flags)\n"
     ]
    },
    {
     "data": {
      "image/png": "[encoded data removed]",
      "text/plain": [
       "<Figure size 432x288 with 1 Axes>"
      ]
     },
     "metadata": {
      "needs_background": "light"
     },
     "output_type": "display_data"
    }
   ],
   "source": [
    "sns.distplot(df['평균기온'])"
   ]
  },
  {
   "cell_type": "code",
   "execution_count": 172,
   "metadata": {},
   "outputs": [
    {
     "data": {
      "text/plain": [
       "<AxesSubplot:xlabel='판매수량'>"
      ]
     },
     "execution_count": 172,
     "metadata": {},
     "output_type": "execute_result"
    },
    {
     "name": "stderr",
     "output_type": "stream",
     "text": [
      "C:\\Users\\82109\\anaconda3\\lib\\site-packages\\matplotlib\\backends\\backend_agg.py:238: RuntimeWarning: Glyph 54032 missing from current font.\n",
      "  font.set_text(s, 0.0, flags=flags)\n",
      "C:\\Users\\82109\\anaconda3\\lib\\site-packages\\matplotlib\\backends\\backend_agg.py:238: RuntimeWarning: Glyph 47588 missing from current font.\n",
      "  font.set_text(s, 0.0, flags=flags)\n",
      "C:\\Users\\82109\\anaconda3\\lib\\site-packages\\matplotlib\\backends\\backend_agg.py:238: RuntimeWarning: Glyph 49688 missing from current font.\n",
      "  font.set_text(s, 0.0, flags=flags)\n",
      "C:\\Users\\82109\\anaconda3\\lib\\site-packages\\matplotlib\\backends\\backend_agg.py:238: RuntimeWarning: Glyph 47049 missing from current font.\n",
      "  font.set_text(s, 0.0, flags=flags)\n",
      "C:\\Users\\82109\\anaconda3\\lib\\site-packages\\matplotlib\\backends\\backend_agg.py:201: RuntimeWarning: Glyph 54032 missing from current font.\n",
      "  font.set_text(s, 0, flags=flags)\n",
      "C:\\Users\\82109\\anaconda3\\lib\\site-packages\\matplotlib\\backends\\backend_agg.py:201: RuntimeWarning: Glyph 47588 missing from current font.\n",
      "  font.set_text(s, 0, flags=flags)\n",
      "C:\\Users\\82109\\anaconda3\\lib\\site-packages\\matplotlib\\backends\\backend_agg.py:201: RuntimeWarning: Glyph 49688 missing from current font.\n",
      "  font.set_text(s, 0, flags=flags)\n",
      "C:\\Users\\82109\\anaconda3\\lib\\site-packages\\matplotlib\\backends\\backend_agg.py:201: RuntimeWarning: Glyph 47049 missing from current font.\n",
      "  font.set_text(s, 0, flags=flags)\n"
     ]
    },
    {
     "data": {
      "image/png": "[encoded data removed]",
      "text/plain": [
       "<Figure size 432x288 with 1 Axes>"
      ]
     },
     "metadata": {
      "needs_background": "light"
     },
     "output_type": "display_data"
    }
   ],
   "source": [
    "sns.distplot(df['판매수량'])"
   ]
  },
  {
   "cell_type": "code",
   "execution_count": 74,
   "metadata": {},
   "outputs": [
    {
     "data": {
      "text/plain": [
       "(35378, 1)"
      ]
     },
     "execution_count": 74,
     "metadata": {},
     "output_type": "execute_result"
    }
   ],
   "source": [
    "cl = df[['판매단가']]\n",
    "cl.shape"
   ]
  },
  {
   "cell_type": "code",
   "execution_count": 75,
   "metadata": {},
   "outputs": [
    {
     "data": {
      "text/html": [
       "<div>\n",
       "<style scoped>\n",
       "    .dataframe tbody tr th:only-of-type {\n",
       "        vertical-align: middle;\n",
       "    }\n",
       "\n",
       "    .dataframe tbody tr th {\n",
       "        vertical-align: top;\n",
       "    }\n",
       "\n",
       "    .dataframe thead th {\n",
       "        text-align: right;\n",
       "    }\n",
       "</style>\n",
       "<table border=\"1\" class=\"dataframe\">\n",
       "  <thead>\n",
       "    <tr style=\"text-align: right;\">\n",
       "      <th></th>\n",
       "      <th>판매단가</th>\n",
       "    </tr>\n",
       "  </thead>\n",
       "  <tbody>\n",
       "    <tr>\n",
       "      <th>count</th>\n",
       "      <td>3.537800e+04</td>\n",
       "    </tr>\n",
       "    <tr>\n",
       "      <th>mean</th>\n",
       "      <td>3.878541e+05</td>\n",
       "    </tr>\n",
       "    <tr>\n",
       "      <th>std</th>\n",
       "      <td>6.264218e+05</td>\n",
       "    </tr>\n",
       "    <tr>\n",
       "      <th>min</th>\n",
       "      <td>1.280000e+04</td>\n",
       "    </tr>\n",
       "    <tr>\n",
       "      <th>25%</th>\n",
       "      <td>5.900000e+04</td>\n",
       "    </tr>\n",
       "    <tr>\n",
       "      <th>50%</th>\n",
       "      <td>9.900000e+04</td>\n",
       "    </tr>\n",
       "    <tr>\n",
       "      <th>75%</th>\n",
       "      <td>3.990000e+05</td>\n",
       "    </tr>\n",
       "    <tr>\n",
       "      <th>max</th>\n",
       "      <td>7.930000e+06</td>\n",
       "    </tr>\n",
       "  </tbody>\n",
       "</table>\n",
       "</div>"
      ],
      "text/plain": [
       "               판매단가\n",
       "count  3.537800e+04\n",
       "mean   3.878541e+05\n",
       "std    6.264218e+05\n",
       "min    1.280000e+04\n",
       "25%    5.900000e+04\n",
       "50%    9.900000e+04\n",
       "75%    3.990000e+05\n",
       "max    7.930000e+06"
      ]
     },
     "execution_count": 75,
     "metadata": {},
     "output_type": "execute_result"
    }
   ],
   "source": [
    "cl.describe()"
   ]
  },
  {
   "cell_type": "code",
   "execution_count": 41,
   "metadata": {
    "scrolled": false
   },
   "outputs": [
    {
     "name": "stderr",
     "output_type": "stream",
     "text": [
      "<ipython-input-41-aeb7fd9c6d6b>:1: SettingWithCopyWarning: \n",
      "A value is trying to be set on a copy of a slice from a DataFrame.\n",
      "Try using .loc[row_indexer,col_indexer] = value instead\n",
      "\n",
      "See the caveats in the documentation: https://pandas.pydata.org/pandas-docs/stable/user_guide/indexing.html#returning-a-view-versus-a-copy\n",
      "  cl['단가_scale'] = (cl['판매단가'] - min(cl['판매단가']))/(max(cl['판매단가']) - min(cl['판매단가']))\n"
     ]
    }
   ],
   "source": [
    "cl['단가_scale'] = (cl['판매단가'] - min(cl['판매단가']))/(max(cl['판매단가']) - min(cl['판매단가']))"
   ]
  },
  {
   "cell_type": "code",
   "execution_count": 45,
   "metadata": {
    "scrolled": true
   },
   "outputs": [
    {
     "name": "stderr",
     "output_type": "stream",
     "text": [
      "<ipython-input-45-26c4cccd4d51>:1: SettingWithCopyWarning: \n",
      "A value is trying to be set on a copy of a slice from a DataFrame.\n",
      "Try using .loc[row_indexer,col_indexer] = value instead\n",
      "\n",
      "See the caveats in the documentation: https://pandas.pydata.org/pandas-docs/stable/user_guide/indexing.html#returning-a-view-versus-a-copy\n",
      "  cl['취급액_scale'] = (cl['취급액'] - min(cl['취급액']))/(max(cl['취급액']) - min(cl['취급액']))\n"
     ]
    }
   ],
   "source": [
    "cl['취급액_scale'] = (cl['취급액'] - min(cl['취급액']))/(max(cl['취급액']) - min(cl['취급액']))"
   ]
  },
  {
   "cell_type": "code",
   "execution_count": 66,
   "metadata": {},
   "outputs": [],
   "source": [
    "sc = StandardScaler()"
   ]
  },
  {
   "cell_type": "code",
   "execution_count": 76,
   "metadata": {},
   "outputs": [
    {
     "data": {
      "image/png": "[encoded data removed]",
      "text/plain": [
       "<Figure size 432x288 with 1 Axes>"
      ]
     },
     "metadata": {
      "needs_background": "light"
     },
     "output_type": "display_data"
    }
   ],
   "source": [
    "wcss = []\n",
    "for i in range(1, 11):\n",
    "    kmeans = KMeans(n_clusters=i, init='k-means++', max_iter=300, n_init=10, random_state=0)\n",
    "    kmeans.fit(cl)\n",
    "    wcss.append(kmeans.inertia_)\n",
    "plt.plot(range(1, 11), wcss)\n",
    "plt.title('Elbow Method')\n",
    "plt.xlabel('Number of clusters')\n",
    "plt.ylabel('WCSS')\n",
    "plt.show()"
   ]
  },
  {
   "cell_type": "code",
   "execution_count": 142,
   "metadata": {},
   "outputs": [],
   "source": [
    "kmeans = KMeans(n_clusters=6, init='k-means++', max_iter=300, n_init=10, random_state=0)\n",
    "pred_y = kmeans.fit_predict(cl)"
   ]
  },
  {
   "cell_type": "code",
   "execution_count": 143,
   "metadata": {},
   "outputs": [],
   "source": [
    "df['단가_cluster'] = pred_y"
   ]
  },
  {
   "cell_type": "code",
   "execution_count": 126,
   "metadata": {
    "scrolled": true
   },
   "outputs": [
    {
     "data": {
      "text/plain": [
       "1059000"
      ]
     },
     "execution_count": 126,
     "metadata": {},
     "output_type": "execute_result"
    }
   ],
   "source": [
    "min(df['판매단가'][df['단가_cluster'] == 1])"
   ]
  },
  {
   "cell_type": "code",
   "execution_count": 144,
   "metadata": {},
   "outputs": [
    {
     "data": {
      "text/plain": [
       "단가_cluster\n",
       "0    2.836517e+07\n",
       "1    1.906573e+07\n",
       "2    1.629172e+07\n",
       "3    1.551886e+07\n",
       "4    1.680905e+07\n",
       "5    1.638953e+07\n",
       "Name: 취급액, dtype: float64"
      ]
     },
     "execution_count": 144,
     "metadata": {},
     "output_type": "execute_result"
    }
   ],
   "source": [
    "df.groupby('단가_cluster')['취급액'].mean()"
   ]
  },
  {
   "cell_type": "code",
   "execution_count": 145,
   "metadata": {
    "scrolled": false
   },
   "outputs": [
    {
     "data": {
      "text/plain": [
       "<matplotlib.collections.PathCollection at 0x25475291e50>"
      ]
     },
     "execution_count": 145,
     "metadata": {},
     "output_type": "execute_result"
    },
    {
     "data": {
      "image/png": "[encoded data removed]",
      "text/plain": [
       "<Figure size 432x288 with 1 Axes>"
      ]
     },
     "metadata": {
      "needs_background": "light"
     },
     "output_type": "display_data"
    }
   ],
   "source": [
    "plt.scatter(df['단가_cluster'], df['취급액'])"
   ]
  },
  {
   "cell_type": "code",
   "execution_count": 115,
   "metadata": {
    "scrolled": true
   },
   "outputs": [
    {
     "data": {
      "text/plain": [
       "count    3.537800e+04\n",
       "mean     3.878541e+05\n",
       "std      6.264218e+05\n",
       "min      1.280000e+04\n",
       "25%      5.900000e+04\n",
       "50%      9.900000e+04\n",
       "75%      3.990000e+05\n",
       "max      7.930000e+06\n",
       "Name: 판매단가, dtype: float64"
      ]
     },
     "execution_count": 115,
     "metadata": {},
     "output_type": "execute_result"
    }
   ],
   "source": [
    "df['판매단가'].describe()"
   ]
  },
  {
   "cell_type": "code",
   "execution_count": 137,
   "metadata": {},
   "outputs": [],
   "source": [
    "conditionlist = [\n",
    "    (df['판매단가'] <= 59000) ,\n",
    "    (df['판매단가'] > 59000) & (df['판매단가'] <=99000),\n",
    "    (df['판매단가'] > 99000) & (df['판매단가'] <=399000),\n",
    "    (df['판매단가'] > 399000)]\n",
    "choicelist = ['1','2','3','4']\n",
    "df['판매단가_Range'] = np.select(conditionlist, choicelist, default='Not Specified')"
   ]
  },
  {
   "cell_type": "code",
   "execution_count": 140,
   "metadata": {},
   "outputs": [],
   "source": [
    "df = df.astype({'판매단가_Range': 'int'})"
   ]
  },
  {
   "cell_type": "code",
   "execution_count": 153,
   "metadata": {},
   "outputs": [
    {
     "data": {
      "text/html": [
       "<div>\n",
       "<style scoped>\n",
       "    .dataframe tbody tr th:only-of-type {\n",
       "        vertical-align: middle;\n",
       "    }\n",
       "\n",
       "    .dataframe tbody tr th {\n",
       "        vertical-align: top;\n",
       "    }\n",
       "\n",
       "    .dataframe thead th {\n",
       "        text-align: right;\n",
       "    }\n",
       "</style>\n",
       "<table border=\"1\" class=\"dataframe\">\n",
       "  <thead>\n",
       "    <tr style=\"text-align: right;\">\n",
       "      <th></th>\n",
       "      <th>상품군</th>\n",
       "      <th>상품소분류</th>\n",
       "      <th>브랜드명</th>\n",
       "      <th>판매단가</th>\n",
       "      <th>취급액</th>\n",
       "      <th>판매수량</th>\n",
       "      <th>방송시간대</th>\n",
       "      <th>방송분대</th>\n",
       "      <th>요일</th>\n",
       "      <th>노출시간</th>\n",
       "      <th>...</th>\n",
       "      <th>월</th>\n",
       "      <th>계절</th>\n",
       "      <th>시간대</th>\n",
       "      <th>판매수량시간등급수능</th>\n",
       "      <th>판매수량시간등급사분위수</th>\n",
       "      <th>노출빈도여부</th>\n",
       "      <th>디테일여부</th>\n",
       "      <th>평균기온</th>\n",
       "      <th>단가_cluster</th>\n",
       "      <th>판매단가_Range</th>\n",
       "    </tr>\n",
       "  </thead>\n",
       "  <tbody>\n",
       "    <tr>\n",
       "      <th>0</th>\n",
       "      <td>의류</td>\n",
       "      <td>상의</td>\n",
       "      <td>테이트</td>\n",
       "      <td>39900</td>\n",
       "      <td>2099000</td>\n",
       "      <td>52.606516</td>\n",
       "      <td>6</td>\n",
       "      <td>0</td>\n",
       "      <td>화요일</td>\n",
       "      <td>20</td>\n",
       "      <td>...</td>\n",
       "      <td>1</td>\n",
       "      <td>겨울</td>\n",
       "      <td>오전</td>\n",
       "      <td>B</td>\n",
       "      <td>B</td>\n",
       "      <td>0</td>\n",
       "      <td>0</td>\n",
       "      <td>-3.70</td>\n",
       "      <td>0</td>\n",
       "      <td>1</td>\n",
       "    </tr>\n",
       "    <tr>\n",
       "      <th>1</th>\n",
       "      <td>의류</td>\n",
       "      <td>상의</td>\n",
       "      <td>테이트</td>\n",
       "      <td>39900</td>\n",
       "      <td>4371000</td>\n",
       "      <td>109.548872</td>\n",
       "      <td>6</td>\n",
       "      <td>0</td>\n",
       "      <td>화요일</td>\n",
       "      <td>20</td>\n",
       "      <td>...</td>\n",
       "      <td>1</td>\n",
       "      <td>겨울</td>\n",
       "      <td>오전</td>\n",
       "      <td>B</td>\n",
       "      <td>B</td>\n",
       "      <td>0</td>\n",
       "      <td>0</td>\n",
       "      <td>-3.70</td>\n",
       "      <td>0</td>\n",
       "      <td>1</td>\n",
       "    </tr>\n",
       "    <tr>\n",
       "      <th>2</th>\n",
       "      <td>의류</td>\n",
       "      <td>상의</td>\n",
       "      <td>테이트</td>\n",
       "      <td>39900</td>\n",
       "      <td>3262000</td>\n",
       "      <td>81.754386</td>\n",
       "      <td>6</td>\n",
       "      <td>20</td>\n",
       "      <td>화요일</td>\n",
       "      <td>20</td>\n",
       "      <td>...</td>\n",
       "      <td>1</td>\n",
       "      <td>겨울</td>\n",
       "      <td>오전</td>\n",
       "      <td>B</td>\n",
       "      <td>B</td>\n",
       "      <td>0</td>\n",
       "      <td>0</td>\n",
       "      <td>-3.71</td>\n",
       "      <td>0</td>\n",
       "      <td>1</td>\n",
       "    </tr>\n",
       "    <tr>\n",
       "      <th>3</th>\n",
       "      <td>의류</td>\n",
       "      <td>상의</td>\n",
       "      <td>테이트</td>\n",
       "      <td>39900</td>\n",
       "      <td>6955000</td>\n",
       "      <td>174.310777</td>\n",
       "      <td>6</td>\n",
       "      <td>20</td>\n",
       "      <td>화요일</td>\n",
       "      <td>20</td>\n",
       "      <td>...</td>\n",
       "      <td>1</td>\n",
       "      <td>겨울</td>\n",
       "      <td>오전</td>\n",
       "      <td>B</td>\n",
       "      <td>B</td>\n",
       "      <td>0</td>\n",
       "      <td>0</td>\n",
       "      <td>-3.71</td>\n",
       "      <td>0</td>\n",
       "      <td>1</td>\n",
       "    </tr>\n",
       "    <tr>\n",
       "      <th>4</th>\n",
       "      <td>의류</td>\n",
       "      <td>상의</td>\n",
       "      <td>테이트</td>\n",
       "      <td>39900</td>\n",
       "      <td>6672000</td>\n",
       "      <td>167.218045</td>\n",
       "      <td>6</td>\n",
       "      <td>40</td>\n",
       "      <td>화요일</td>\n",
       "      <td>20</td>\n",
       "      <td>...</td>\n",
       "      <td>1</td>\n",
       "      <td>겨울</td>\n",
       "      <td>오전</td>\n",
       "      <td>B</td>\n",
       "      <td>B</td>\n",
       "      <td>0</td>\n",
       "      <td>1</td>\n",
       "      <td>-3.71</td>\n",
       "      <td>0</td>\n",
       "      <td>1</td>\n",
       "    </tr>\n",
       "    <tr>\n",
       "      <th>...</th>\n",
       "      <td>...</td>\n",
       "      <td>...</td>\n",
       "      <td>...</td>\n",
       "      <td>...</td>\n",
       "      <td>...</td>\n",
       "      <td>...</td>\n",
       "      <td>...</td>\n",
       "      <td>...</td>\n",
       "      <td>...</td>\n",
       "      <td>...</td>\n",
       "      <td>...</td>\n",
       "      <td>...</td>\n",
       "      <td>...</td>\n",
       "      <td>...</td>\n",
       "      <td>...</td>\n",
       "      <td>...</td>\n",
       "      <td>...</td>\n",
       "      <td>...</td>\n",
       "      <td>...</td>\n",
       "      <td>...</td>\n",
       "      <td>...</td>\n",
       "    </tr>\n",
       "    <tr>\n",
       "      <th>35373</th>\n",
       "      <td>주방</td>\n",
       "      <td>밥솥</td>\n",
       "      <td>쿠첸</td>\n",
       "      <td>148000</td>\n",
       "      <td>1664000</td>\n",
       "      <td>11.243243</td>\n",
       "      <td>23</td>\n",
       "      <td>20</td>\n",
       "      <td>화요일</td>\n",
       "      <td>20</td>\n",
       "      <td>...</td>\n",
       "      <td>12</td>\n",
       "      <td>겨울</td>\n",
       "      <td>저녁</td>\n",
       "      <td>C</td>\n",
       "      <td>C</td>\n",
       "      <td>0</td>\n",
       "      <td>0</td>\n",
       "      <td>-4.94</td>\n",
       "      <td>5</td>\n",
       "      <td>3</td>\n",
       "    </tr>\n",
       "    <tr>\n",
       "      <th>35374</th>\n",
       "      <td>주방</td>\n",
       "      <td>밥솥</td>\n",
       "      <td>쿠첸</td>\n",
       "      <td>178000</td>\n",
       "      <td>9149000</td>\n",
       "      <td>51.398876</td>\n",
       "      <td>23</td>\n",
       "      <td>40</td>\n",
       "      <td>화요일</td>\n",
       "      <td>20</td>\n",
       "      <td>...</td>\n",
       "      <td>12</td>\n",
       "      <td>겨울</td>\n",
       "      <td>저녁</td>\n",
       "      <td>C</td>\n",
       "      <td>C</td>\n",
       "      <td>0</td>\n",
       "      <td>1</td>\n",
       "      <td>-4.94</td>\n",
       "      <td>5</td>\n",
       "      <td>3</td>\n",
       "    </tr>\n",
       "    <tr>\n",
       "      <th>35375</th>\n",
       "      <td>주방</td>\n",
       "      <td>밥솥</td>\n",
       "      <td>쿠첸</td>\n",
       "      <td>158000</td>\n",
       "      <td>2328000</td>\n",
       "      <td>14.734177</td>\n",
       "      <td>23</td>\n",
       "      <td>40</td>\n",
       "      <td>화요일</td>\n",
       "      <td>20</td>\n",
       "      <td>...</td>\n",
       "      <td>12</td>\n",
       "      <td>겨울</td>\n",
       "      <td>저녁</td>\n",
       "      <td>C</td>\n",
       "      <td>C</td>\n",
       "      <td>0</td>\n",
       "      <td>1</td>\n",
       "      <td>-4.94</td>\n",
       "      <td>5</td>\n",
       "      <td>3</td>\n",
       "    </tr>\n",
       "    <tr>\n",
       "      <th>35376</th>\n",
       "      <td>주방</td>\n",
       "      <td>밥솥</td>\n",
       "      <td>쿠첸</td>\n",
       "      <td>168000</td>\n",
       "      <td>15282000</td>\n",
       "      <td>90.964286</td>\n",
       "      <td>23</td>\n",
       "      <td>40</td>\n",
       "      <td>화요일</td>\n",
       "      <td>20</td>\n",
       "      <td>...</td>\n",
       "      <td>12</td>\n",
       "      <td>겨울</td>\n",
       "      <td>저녁</td>\n",
       "      <td>C</td>\n",
       "      <td>C</td>\n",
       "      <td>0</td>\n",
       "      <td>1</td>\n",
       "      <td>-4.94</td>\n",
       "      <td>5</td>\n",
       "      <td>3</td>\n",
       "    </tr>\n",
       "    <tr>\n",
       "      <th>35377</th>\n",
       "      <td>주방</td>\n",
       "      <td>밥솥</td>\n",
       "      <td>쿠첸</td>\n",
       "      <td>148000</td>\n",
       "      <td>10157000</td>\n",
       "      <td>68.628378</td>\n",
       "      <td>23</td>\n",
       "      <td>40</td>\n",
       "      <td>화요일</td>\n",
       "      <td>20</td>\n",
       "      <td>...</td>\n",
       "      <td>12</td>\n",
       "      <td>겨울</td>\n",
       "      <td>저녁</td>\n",
       "      <td>C</td>\n",
       "      <td>C</td>\n",
       "      <td>0</td>\n",
       "      <td>1</td>\n",
       "      <td>-4.94</td>\n",
       "      <td>5</td>\n",
       "      <td>3</td>\n",
       "    </tr>\n",
       "  </tbody>\n",
       "</table>\n",
       "<p>35378 rows × 22 columns</p>\n",
       "</div>"
      ],
      "text/plain": [
       "      상품군 상품소분류 브랜드명    판매단가       취급액        판매수량  방송시간대  방송분대   요일  노출시간  \\\n",
       "0      의류    상의  테이트   39900   2099000   52.606516      6     0  화요일    20   \n",
       "1      의류    상의  테이트   39900   4371000  109.548872      6     0  화요일    20   \n",
       "2      의류    상의  테이트   39900   3262000   81.754386      6    20  화요일    20   \n",
       "3      의류    상의  테이트   39900   6955000  174.310777      6    20  화요일    20   \n",
       "4      의류    상의  테이트   39900   6672000  167.218045      6    40  화요일    20   \n",
       "...    ..   ...  ...     ...       ...         ...    ...   ...  ...   ...   \n",
       "35373  주방    밥솥   쿠첸  148000   1664000   11.243243     23    20  화요일    20   \n",
       "35374  주방    밥솥   쿠첸  178000   9149000   51.398876     23    40  화요일    20   \n",
       "35375  주방    밥솥   쿠첸  158000   2328000   14.734177     23    40  화요일    20   \n",
       "35376  주방    밥솥   쿠첸  168000  15282000   90.964286     23    40  화요일    20   \n",
       "35377  주방    밥솥   쿠첸  148000  10157000   68.628378     23    40  화요일    20   \n",
       "\n",
       "       ...   월  계절  시간대 판매수량시간등급수능 판매수량시간등급사분위수 노출빈도여부 디테일여부  평균기온  \\\n",
       "0      ...   1  겨울   오전          B            B      0     0 -3.70   \n",
       "1      ...   1  겨울   오전          B            B      0     0 -3.70   \n",
       "2      ...   1  겨울   오전          B            B      0     0 -3.71   \n",
       "3      ...   1  겨울   오전          B            B      0     0 -3.71   \n",
       "4      ...   1  겨울   오전          B            B      0     1 -3.71   \n",
       "...    ...  ..  ..  ...        ...          ...    ...   ...   ...   \n",
       "35373  ...  12  겨울   저녁          C            C      0     0 -4.94   \n",
       "35374  ...  12  겨울   저녁          C            C      0     1 -4.94   \n",
       "35375  ...  12  겨울   저녁          C            C      0     1 -4.94   \n",
       "35376  ...  12  겨울   저녁          C            C      0     1 -4.94   \n",
       "35377  ...  12  겨울   저녁          C            C      0     1 -4.94   \n",
       "\n",
       "       단가_cluster  판매단가_Range  \n",
       "0               0           1  \n",
       "1               0           1  \n",
       "2               0           1  \n",
       "3               0           1  \n",
       "4               0           1  \n",
       "...           ...         ...  \n",
       "35373           5           3  \n",
       "35374           5           3  \n",
       "35375           5           3  \n",
       "35376           5           3  \n",
       "35377           5           3  \n",
       "\n",
       "[35378 rows x 22 columns]"
      ]
     },
     "execution_count": 153,
     "metadata": {},
     "output_type": "execute_result"
    }
   ],
   "source": [
    "df"
   ]
  },
  {
   "cell_type": "code",
   "execution_count": 152,
   "metadata": {},
   "outputs": [],
   "source": [
    "df.to_csv('df.csv',index = False)"
   ]
  },
  {
   "cell_type": "code",
   "execution_count": null,
   "metadata": {},
   "outputs": [],
   "source": []
  }
 ],
 "metadata": {
  "kernelspec": {
   "display_name": "Python 3",
   "language": "python",
   "name": "python3"
  },
  "language_info": {
   "codemirror_mode": {
    "name": "ipython",
    "version": 3
   },
   "file_extension": ".py",
   "mimetype": "text/x-python",
   "name": "python",
   "nbconvert_exporter": "python",
   "pygments_lexer": "ipython3",
   "version": "3.8.3"
  }
 },
 "nbformat": 4,
 "nbformat_minor": 4
}
